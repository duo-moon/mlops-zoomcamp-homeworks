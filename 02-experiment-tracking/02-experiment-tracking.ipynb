{
 "cells": [
  {
   "cell_type": "code",
   "id": "initial_id",
   "metadata": {
    "collapsed": true,
    "ExecuteTime": {
     "end_time": "2024-05-26T13:01:00.287181Z",
     "start_time": "2024-05-26T13:01:00.280575Z"
    }
   },
   "source": [
    "import os\n",
    "\n",
    "import mlflow\n",
    "from dotenv import load_dotenv\n",
    "from mlflow.entities import ViewType\n",
    "from mlflow.tracking import MlflowClient\n"
   ],
   "outputs": [],
   "execution_count": 7
  },
  {
   "metadata": {
    "ExecuteTime": {
     "end_time": "2024-05-26T13:01:01.046529Z",
     "start_time": "2024-05-26T13:01:01.040769Z"
    }
   },
   "cell_type": "code",
   "source": [
    "load_dotenv('../.env')\n",
    "MLFLOW_HOST = os.getenv('MLFLOW_HOST')\n",
    "MLFLOW_PORT = os.getenv('MLFLOW_PORT')\n",
    "MLFLOW_USER = os.getenv('MLFLOW_USER')\n",
    "MLFLOW_PASSWORD = os.getenv('MLFLOW_PASSWORD')"
   ],
   "id": "e34252a331a2cf9e",
   "outputs": [],
   "execution_count": 8
  },
  {
   "metadata": {
    "ExecuteTime": {
     "end_time": "2024-05-26T13:01:01.733741Z",
     "start_time": "2024-05-26T13:01:01.728909Z"
    }
   },
   "cell_type": "code",
   "source": [
    "mlflow.set_tracking_uri(uri=f'http://{MLFLOW_USER}:{MLFLOW_PASSWORD}@{MLFLOW_HOST}:{MLFLOW_PORT}')\n",
    "client = MlflowClient()"
   ],
   "id": "aa6c72a6ccbd3484",
   "outputs": [],
   "execution_count": 9
  },
  {
   "metadata": {
    "ExecuteTime": {
     "end_time": "2024-05-26T13:01:02.407591Z",
     "start_time": "2024-05-26T13:01:02.333428Z"
    }
   },
   "cell_type": "code",
   "source": [
    "experiment_1 = client.get_experiment_by_name('random-forest-model-train')\n",
    "res_1 = client.search_runs(experiment_ids=experiment_1.experiment_id)\n",
    "res_1[0].data.params['min_samples_split']\n"
   ],
   "id": "a87b48164f47ee6d",
   "outputs": [
    {
     "data": {
      "text/plain": [
       "'2'"
      ]
     },
     "execution_count": 10,
     "metadata": {},
     "output_type": "execute_result"
    }
   ],
   "execution_count": 10
  },
  {
   "metadata": {
    "ExecuteTime": {
     "end_time": "2024-05-26T13:01:03.199929Z",
     "start_time": "2024-05-26T13:01:03.146578Z"
    }
   },
   "cell_type": "code",
   "source": [
    "experiment_2 = client.get_experiment_by_name('random-forest-hyperopt')\n",
    "res_2 = client.search_runs(\n",
    "    experiment_ids=experiment_2.experiment_id,\n",
    "    run_view_type=ViewType.ACTIVE_ONLY,\n",
    "    order_by=[\"metrics.rmse ASC\"],\n",
    "    max_results=5,\n",
    "    \n",
    ")\n",
    "res_2[0].data.metrics['rmse']\n"
   ],
   "id": "dc283c6542212509",
   "outputs": [
    {
     "data": {
      "text/plain": [
       "5.335419588556921"
      ]
     },
     "execution_count": 11,
     "metadata": {},
     "output_type": "execute_result"
    }
   ],
   "execution_count": 11
  },
  {
   "metadata": {
    "ExecuteTime": {
     "end_time": "2024-05-26T13:01:04.160094Z",
     "start_time": "2024-05-26T13:01:04.097342Z"
    }
   },
   "cell_type": "code",
   "source": [
    "experiment_3 = client.get_experiment_by_name('random-forest-best-models')\n",
    "res_3 = client.search_runs(\n",
    "    experiment_ids=experiment_3.experiment_id,\n",
    "    run_view_type=ViewType.ACTIVE_ONLY,\n",
    "    order_by=[\"metrics.test_rmse ASC\"],\n",
    "    max_results=5,\n",
    "    \n",
    ")\n",
    "res_3[0].data.metrics['test_rmse']"
   ],
   "id": "1a3bf3fc062f3ed6",
   "outputs": [
    {
     "data": {
      "text/plain": [
       "5.567408012462019"
      ]
     },
     "execution_count": 12,
     "metadata": {},
     "output_type": "execute_result"
    }
   ],
   "execution_count": 12
  },
  {
   "metadata": {},
   "cell_type": "markdown",
   "source": "",
   "id": "d6a3cb54901b3413"
  },
  {
   "metadata": {},
   "cell_type": "code",
   "outputs": [],
   "execution_count": null,
   "source": "",
   "id": "e7e5e66ac2793531"
  }
 ],
 "metadata": {
  "kernelspec": {
   "display_name": "Python 3",
   "language": "python",
   "name": "python3"
  },
  "language_info": {
   "codemirror_mode": {
    "name": "ipython",
    "version": 2
   },
   "file_extension": ".py",
   "mimetype": "text/x-python",
   "name": "python",
   "nbconvert_exporter": "python",
   "pygments_lexer": "ipython2",
   "version": "2.7.6"
  }
 },
 "nbformat": 4,
 "nbformat_minor": 5
}
